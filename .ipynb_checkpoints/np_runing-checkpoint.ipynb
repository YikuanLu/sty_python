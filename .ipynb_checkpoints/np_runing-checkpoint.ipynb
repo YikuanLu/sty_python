{
 "cells": [
  {
   "cell_type": "code",
   "execution_count": 1,
   "id": "07ddb74a",
   "metadata": {},
   "outputs": [],
   "source": [
    "import numpy as np"
   ]
  },
  {
   "cell_type": "code",
   "execution_count": 2,
   "id": "e385fd2b",
   "metadata": {},
   "outputs": [],
   "source": [
    "array01 = np.array([1,2,4,5])"
   ]
  },
  {
   "cell_type": "code",
   "execution_count": 3,
   "id": "8fbb76d2",
   "metadata": {},
   "outputs": [
    {
     "data": {
      "text/plain": [
       "array([1, 2, 4, 5])"
      ]
     },
     "execution_count": 3,
     "metadata": {},
     "output_type": "execute_result"
    }
   ],
   "source": [
    "array01"
   ]
  },
  {
   "cell_type": "code",
   "execution_count": 4,
   "id": "d68163ce",
   "metadata": {},
   "outputs": [],
   "source": [
    "m = {\n",
    "    'a':1,\n",
    "    'b':3,\n",
    "    'c':13\n",
    "}"
   ]
  },
  {
   "cell_type": "code",
   "execution_count": 5,
   "id": "a9f7a491",
   "metadata": {},
   "outputs": [
    {
     "data": {
      "text/plain": [
       "'a'"
      ]
     },
     "execution_count": 5,
     "metadata": {},
     "output_type": "execute_result"
    }
   ],
   "source": [
    "min(m)"
   ]
  },
  {
   "cell_type": "code",
   "execution_count": 6,
   "id": "421359b5",
   "metadata": {},
   "outputs": [
    {
     "data": {
      "text/plain": [
       "1"
      ]
     },
     "execution_count": 6,
     "metadata": {},
     "output_type": "execute_result"
    }
   ],
   "source": [
    "min(m.values())"
   ]
  },
  {
   "cell_type": "code",
   "execution_count": null,
   "id": "bd53f1eb",
   "metadata": {},
   "outputs": [],
   "source": []
  },
  {
   "cell_type": "code",
   "execution_count": null,
   "id": "be05d1f7",
   "metadata": {},
   "outputs": [],
   "source": []
  },
  {
   "cell_type": "code",
   "execution_count": 7,
   "id": "07f7442e",
   "metadata": {},
   "outputs": [],
   "source": [
    "map01 = {'a':1,'b':2,'c':3,'d':4}\n",
    "map02 = {'a':1,'bb':10,'cc':3,'d':5}"
   ]
  },
  {
   "cell_type": "code",
   "execution_count": 8,
   "id": "7079c81f",
   "metadata": {},
   "outputs": [
    {
     "name": "stdout",
     "output_type": "stream",
     "text": [
      "{'a', 'd'}\n"
     ]
    }
   ],
   "source": [
    "# Find keys in common\n",
    "print(map01.keys() & map02.keys())"
   ]
  },
  {
   "cell_type": "code",
   "execution_count": 9,
   "id": "318902ec",
   "metadata": {},
   "outputs": [
    {
     "name": "stdout",
     "output_type": "stream",
     "text": [
      "{'b', 'c'}\n"
     ]
    }
   ],
   "source": [
    "# Find keys in a that are not in b\n",
    "print(map01.keys() - map02.keys())"
   ]
  },
  {
   "cell_type": "code",
   "execution_count": 10,
   "id": "01468ad5",
   "metadata": {},
   "outputs": [
    {
     "data": {
      "text/plain": [
       "{('a', 1), ('b', 2), ('c', 3), ('d', 4)}"
      ]
     },
     "execution_count": 10,
     "metadata": {},
     "output_type": "execute_result"
    }
   ],
   "source": [
    "# Find (key,value) pairs in common\n",
    "map01.items() & map01.items()"
   ]
  },
  {
   "cell_type": "code",
   "execution_count": null,
   "id": "d8e8a543",
   "metadata": {},
   "outputs": [],
   "source": []
  }
 ],
 "metadata": {
  "interpreter": {
   "hash": "aee8b7b246df8f9039afb4144a1f6fd8d2ca17a180786b69acc140d282b71a49"
  },
  "kernelspec": {
   "display_name": "Python 3",
   "language": "python",
   "name": "python3"
  },
  "language_info": {
   "codemirror_mode": {
    "name": "ipython",
    "version": 3
   },
   "file_extension": ".py",
   "mimetype": "text/x-python",
   "name": "python",
   "nbconvert_exporter": "python",
   "pygments_lexer": "ipython3",
   "version": "3.9.1"
  }
 },
 "nbformat": 4,
 "nbformat_minor": 5
}
